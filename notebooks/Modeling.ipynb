{
 "cells": [
  {
   "cell_type": "code",
   "execution_count": 3,
   "metadata": {
    "id": "RNrUA0xfjjGJ"
   },
   "outputs": [
    {
     "name": "stdout",
     "output_type": "stream",
     "text": [
      "Unexpected exception formatting exception. Falling back to standard exception\n"
     ]
    },
    {
     "name": "stderr",
     "output_type": "stream",
     "text": [
      "Traceback (most recent call last):\n",
      "  File \"d:\\UNILA\\SKRIPSI\\Chatbot Lisa 1\\.venv\\Lib\\site-packages\\IPython\\core\\interactiveshell.py\", line 3577, in run_code\n",
      "  File \"C:\\Users\\ASUS\\AppData\\Local\\Temp\\ipykernel_20704\\1767366234.py\", line 1, in <module>\n",
      "    import numpy as np  # Import library numpy untuk operasi numerik\n",
      "    ^^^^^^^^^^^^^^^^^^\n",
      "ModuleNotFoundError: No module named 'numpy'\n",
      "\n",
      "During handling of the above exception, another exception occurred:\n",
      "\n",
      "Traceback (most recent call last):\n",
      "  File \"d:\\UNILA\\SKRIPSI\\Chatbot Lisa 1\\.venv\\Lib\\site-packages\\pygments\\styles\\__init__.py\", line 45, in get_style_by_name\n",
      "ModuleNotFoundError: No module named 'pygments.styles.default'\n",
      "\n",
      "During handling of the above exception, another exception occurred:\n",
      "\n",
      "Traceback (most recent call last):\n",
      "  File \"d:\\UNILA\\SKRIPSI\\Chatbot Lisa 1\\.venv\\Lib\\site-packages\\IPython\\core\\interactiveshell.py\", line 2168, in showtraceback\n",
      "  File \"d:\\UNILA\\SKRIPSI\\Chatbot Lisa 1\\.venv\\Lib\\site-packages\\IPython\\core\\ultratb.py\", line 1457, in structured_traceback\n",
      "  File \"d:\\UNILA\\SKRIPSI\\Chatbot Lisa 1\\.venv\\Lib\\site-packages\\IPython\\core\\ultratb.py\", line 1348, in structured_traceback\n",
      "  File \"d:\\UNILA\\SKRIPSI\\Chatbot Lisa 1\\.venv\\Lib\\site-packages\\IPython\\core\\ultratb.py\", line 1195, in structured_traceback\n",
      "  File \"d:\\UNILA\\SKRIPSI\\Chatbot Lisa 1\\.venv\\Lib\\site-packages\\IPython\\core\\ultratb.py\", line 1085, in format_exception_as_a_whole\n",
      "  File \"d:\\UNILA\\SKRIPSI\\Chatbot Lisa 1\\.venv\\Lib\\site-packages\\IPython\\core\\ultratb.py\", line 1136, in get_records\n",
      "  File \"d:\\UNILA\\SKRIPSI\\Chatbot Lisa 1\\.venv\\Lib\\site-packages\\pygments\\styles\\__init__.py\", line 47, in get_style_by_name\n",
      "pygments.util.ClassNotFound: Could not find style module 'pygments.styles.default', though it should be builtin.\n"
     ]
    }
   ],
   "source": [
    "import numpy as np  # Import library numpy untuk operasi numerik\n",
    "import pandas as pd  # Import library pandas untuk manipulasi data"
   ]
  },
  {
   "cell_type": "code",
   "execution_count": 51,
   "metadata": {
    "colab": {
     "base_uri": "https://localhost:8080/",
     "height": 1000
    },
    "id": "pKjOxb7dj1UR",
    "outputId": "e1a8dc2c-8380-428d-e86e-c242ffb1444e"
   },
   "outputs": [
    {
     "data": {
      "text/html": [
       "<div>\n",
       "<style scoped>\n",
       "    .dataframe tbody tr th:only-of-type {\n",
       "        vertical-align: middle;\n",
       "    }\n",
       "\n",
       "    .dataframe tbody tr th {\n",
       "        vertical-align: top;\n",
       "    }\n",
       "\n",
       "    .dataframe thead th {\n",
       "        text-align: right;\n",
       "    }\n",
       "</style>\n",
       "<table border=\"1\" class=\"dataframe\">\n",
       "  <thead>\n",
       "    <tr style=\"text-align: right;\">\n",
       "      <th></th>\n",
       "      <th>tag</th>\n",
       "      <th>patterns</th>\n",
       "      <th>responses</th>\n",
       "    </tr>\n",
       "  </thead>\n",
       "  <tbody>\n",
       "    <tr>\n",
       "      <th>0</th>\n",
       "      <td>salam</td>\n",
       "      <td>[Hai, Hei, Hi, Halo, Hola, Hello, Wassap, Yuhu...</td>\n",
       "      <td>[Halo! Bagaimana LISA bisa membantu kamu?, Hai...</td>\n",
       "    </tr>\n",
       "    <tr>\n",
       "      <th>1</th>\n",
       "      <td>pagi</td>\n",
       "      <td>[Pagi, Selamat pagi]</td>\n",
       "      <td>[Selamat pagi. Bagaimana perasaan kamu hari ini?]</td>\n",
       "    </tr>\n",
       "    <tr>\n",
       "      <th>2</th>\n",
       "      <td>siang</td>\n",
       "      <td>[Siang, Selamat siang]</td>\n",
       "      <td>[Selamat siang. Bagaimana kabar kamu ini?]</td>\n",
       "    </tr>\n",
       "    <tr>\n",
       "      <th>3</th>\n",
       "      <td>sore</td>\n",
       "      <td>[Sore, Selamat sore]</td>\n",
       "      <td>[Selamat sore. Apa yang bisa LISA bantu hari i...</td>\n",
       "    </tr>\n",
       "    <tr>\n",
       "      <th>4</th>\n",
       "      <td>malam</td>\n",
       "      <td>[Malam, Selamat malam]</td>\n",
       "      <td>[Selamat malam. Bagaimana kabar kamu?]</td>\n",
       "    </tr>\n",
       "    <tr>\n",
       "      <th>5</th>\n",
       "      <td>penutup</td>\n",
       "      <td>[Selamat tinggal, Sampai jumpa, Dadah, Goodbye]</td>\n",
       "      <td>[Sampai jumpa lagi., Semoga harimu menyenangka...</td>\n",
       "    </tr>\n",
       "    <tr>\n",
       "      <th>6</th>\n",
       "      <td>terima_kasih</td>\n",
       "      <td>[Terima kasih, Makasih, Itu sangat membantu, T...</td>\n",
       "      <td>[Sama-sama!, Dengan senang hati!, Kapan pun!, ...</td>\n",
       "    </tr>\n",
       "    <tr>\n",
       "      <th>7</th>\n",
       "      <td>tidak_respon</td>\n",
       "      <td>[]</td>\n",
       "      <td>[Maaf, saya tidak mengerti., Silakan lanjutkan...</td>\n",
       "    </tr>\n",
       "    <tr>\n",
       "      <th>8</th>\n",
       "      <td>tentang_saya</td>\n",
       "      <td>[Ceritakan tentang dirimu, Siapa kamu?, Apa ya...</td>\n",
       "      <td>[Saya adalah LISA (Lampung Sehat Asistant). Sa...</td>\n",
       "    </tr>\n",
       "    <tr>\n",
       "      <th>9</th>\n",
       "      <td>kemampuan</td>\n",
       "      <td>[Apa yang bisa kamu lakukan?, Bisa bantu apa?,...</td>\n",
       "      <td>[Saya bisa memberikan informasi umum tentang T...</td>\n",
       "    </tr>\n",
       "    <tr>\n",
       "      <th>10</th>\n",
       "      <td>pembuat</td>\n",
       "      <td>[Siapa yang membuatmu?, Bagaimana kamu dibuat?...</td>\n",
       "      <td>[Saya dikembangkan oleh tim Inisiatif Lampung ...</td>\n",
       "    </tr>\n",
       "    <tr>\n",
       "      <th>11</th>\n",
       "      <td>nama</td>\n",
       "      <td>[Nama saya , Saya bernama , Panggil saya ]</td>\n",
       "      <td>[Senang bertemu dengan kamu! Bagaimana kabar k...</td>\n",
       "    </tr>\n",
       "    <tr>\n",
       "      <th>12</th>\n",
       "      <td>bantuan</td>\n",
       "      <td>[Bisakah kamu membantu saya?, Tolong bantu say...</td>\n",
       "      <td>[Tentu saja. Bagaimana LISA bisa membantu kamu...</td>\n",
       "    </tr>\n",
       "  </tbody>\n",
       "</table>\n",
       "</div>"
      ],
      "text/plain": [
       "             tag                                           patterns  \\\n",
       "0          salam  [Hai, Hei, Hi, Halo, Hola, Hello, Wassap, Yuhu...   \n",
       "1           pagi                               [Pagi, Selamat pagi]   \n",
       "2          siang                             [Siang, Selamat siang]   \n",
       "3           sore                               [Sore, Selamat sore]   \n",
       "4          malam                             [Malam, Selamat malam]   \n",
       "5        penutup    [Selamat tinggal, Sampai jumpa, Dadah, Goodbye]   \n",
       "6   terima_kasih  [Terima kasih, Makasih, Itu sangat membantu, T...   \n",
       "7   tidak_respon                                                 []   \n",
       "8   tentang_saya  [Ceritakan tentang dirimu, Siapa kamu?, Apa ya...   \n",
       "9      kemampuan  [Apa yang bisa kamu lakukan?, Bisa bantu apa?,...   \n",
       "10       pembuat  [Siapa yang membuatmu?, Bagaimana kamu dibuat?...   \n",
       "11          nama         [Nama saya , Saya bernama , Panggil saya ]   \n",
       "12       bantuan  [Bisakah kamu membantu saya?, Tolong bantu say...   \n",
       "\n",
       "                                            responses  \n",
       "0   [Halo! Bagaimana LISA bisa membantu kamu?, Hai...  \n",
       "1   [Selamat pagi. Bagaimana perasaan kamu hari ini?]  \n",
       "2          [Selamat siang. Bagaimana kabar kamu ini?]  \n",
       "3   [Selamat sore. Apa yang bisa LISA bantu hari i...  \n",
       "4              [Selamat malam. Bagaimana kabar kamu?]  \n",
       "5   [Sampai jumpa lagi., Semoga harimu menyenangka...  \n",
       "6   [Sama-sama!, Dengan senang hati!, Kapan pun!, ...  \n",
       "7   [Maaf, saya tidak mengerti., Silakan lanjutkan...  \n",
       "8   [Saya adalah LISA (Lampung Sehat Asistant). Sa...  \n",
       "9   [Saya bisa memberikan informasi umum tentang T...  \n",
       "10  [Saya dikembangkan oleh tim Inisiatif Lampung ...  \n",
       "11  [Senang bertemu dengan kamu! Bagaimana kabar k...  \n",
       "12  [Tentu saja. Bagaimana LISA bisa membantu kamu...  "
      ]
     },
     "execution_count": 51,
     "metadata": {},
     "output_type": "execute_result"
    }
   ],
   "source": [
    "import json  # Import library json untuk membaca data dari file JSON\n",
    "\n",
    "with open('../data/lisa.json', 'r') as f:\n",
    "    data = json.load(f)  # Membaca data dari file JSON dan menyimpannya dalam variabel 'data'\n",
    "\n",
    "df = pd.DataFrame(data['intents'])  # Membuat DataFrame dari bagian 'intents' dalam data JSON\n",
    "df"
   ]
  },
  {
   "cell_type": "code",
   "execution_count": 52,
   "metadata": {
    "colab": {
     "base_uri": "https://localhost:8080/",
     "height": 1000
    },
    "id": "g_0V5J2cj2rm",
    "outputId": "f7eb45d9-ff3f-4677-9ca4-8dbf34ed1733",
    "scrolled": false
   },
   "outputs": [
    {
     "data": {
      "text/html": [
       "<div>\n",
       "<style scoped>\n",
       "    .dataframe tbody tr th:only-of-type {\n",
       "        vertical-align: middle;\n",
       "    }\n",
       "\n",
       "    .dataframe tbody tr th {\n",
       "        vertical-align: top;\n",
       "    }\n",
       "\n",
       "    .dataframe thead th {\n",
       "        text-align: right;\n",
       "    }\n",
       "</style>\n",
       "<table border=\"1\" class=\"dataframe\">\n",
       "  <thead>\n",
       "    <tr style=\"text-align: right;\">\n",
       "      <th></th>\n",
       "      <th>tag</th>\n",
       "      <th>patterns</th>\n",
       "      <th>responses</th>\n",
       "    </tr>\n",
       "  </thead>\n",
       "  <tbody>\n",
       "    <tr>\n",
       "      <th>0</th>\n",
       "      <td>salam</td>\n",
       "      <td>Hai</td>\n",
       "      <td>[Halo! Bagaimana LISA bisa membantu kamu?, Hai...</td>\n",
       "    </tr>\n",
       "    <tr>\n",
       "      <th>1</th>\n",
       "      <td>salam</td>\n",
       "      <td>Hei</td>\n",
       "      <td>[Halo! Bagaimana LISA bisa membantu kamu?, Hai...</td>\n",
       "    </tr>\n",
       "    <tr>\n",
       "      <th>2</th>\n",
       "      <td>salam</td>\n",
       "      <td>Hi</td>\n",
       "      <td>[Halo! Bagaimana LISA bisa membantu kamu?, Hai...</td>\n",
       "    </tr>\n",
       "    <tr>\n",
       "      <th>3</th>\n",
       "      <td>salam</td>\n",
       "      <td>Halo</td>\n",
       "      <td>[Halo! Bagaimana LISA bisa membantu kamu?, Hai...</td>\n",
       "    </tr>\n",
       "    <tr>\n",
       "      <th>4</th>\n",
       "      <td>salam</td>\n",
       "      <td>Hola</td>\n",
       "      <td>[Halo! Bagaimana LISA bisa membantu kamu?, Hai...</td>\n",
       "    </tr>\n",
       "    <tr>\n",
       "      <th>5</th>\n",
       "      <td>salam</td>\n",
       "      <td>Hello</td>\n",
       "      <td>[Halo! Bagaimana LISA bisa membantu kamu?, Hai...</td>\n",
       "    </tr>\n",
       "    <tr>\n",
       "      <th>6</th>\n",
       "      <td>salam</td>\n",
       "      <td>Wassap</td>\n",
       "      <td>[Halo! Bagaimana LISA bisa membantu kamu?, Hai...</td>\n",
       "    </tr>\n",
       "    <tr>\n",
       "      <th>7</th>\n",
       "      <td>salam</td>\n",
       "      <td>Yuhuu</td>\n",
       "      <td>[Halo! Bagaimana LISA bisa membantu kamu?, Hai...</td>\n",
       "    </tr>\n",
       "    <tr>\n",
       "      <th>8</th>\n",
       "      <td>salam</td>\n",
       "      <td>Ada yang di sana?</td>\n",
       "      <td>[Halo! Bagaimana LISA bisa membantu kamu?, Hai...</td>\n",
       "    </tr>\n",
       "    <tr>\n",
       "      <th>9</th>\n",
       "      <td>salam</td>\n",
       "      <td>Selamat pagi</td>\n",
       "      <td>[Halo! Bagaimana LISA bisa membantu kamu?, Hai...</td>\n",
       "    </tr>\n",
       "    <tr>\n",
       "      <th>10</th>\n",
       "      <td>salam</td>\n",
       "      <td>Selamat siang</td>\n",
       "      <td>[Halo! Bagaimana LISA bisa membantu kamu?, Hai...</td>\n",
       "    </tr>\n",
       "    <tr>\n",
       "      <th>11</th>\n",
       "      <td>salam</td>\n",
       "      <td>Selamat sore</td>\n",
       "      <td>[Halo! Bagaimana LISA bisa membantu kamu?, Hai...</td>\n",
       "    </tr>\n",
       "    <tr>\n",
       "      <th>12</th>\n",
       "      <td>salam</td>\n",
       "      <td>Selamat malam</td>\n",
       "      <td>[Halo! Bagaimana LISA bisa membantu kamu?, Hai...</td>\n",
       "    </tr>\n",
       "    <tr>\n",
       "      <th>13</th>\n",
       "      <td>salam</td>\n",
       "      <td>Apakah ini chatbot Tuberkulosis ?</td>\n",
       "      <td>[Halo! Bagaimana LISA bisa membantu kamu?, Hai...</td>\n",
       "    </tr>\n",
       "    <tr>\n",
       "      <th>14</th>\n",
       "      <td>salam</td>\n",
       "      <td>Apakah ini chatbot TBC?</td>\n",
       "      <td>[Halo! Bagaimana LISA bisa membantu kamu?, Hai...</td>\n",
       "    </tr>\n",
       "    <tr>\n",
       "      <th>15</th>\n",
       "      <td>pagi</td>\n",
       "      <td>Pagi</td>\n",
       "      <td>[Selamat pagi. Bagaimana perasaan kamu hari ini?]</td>\n",
       "    </tr>\n",
       "    <tr>\n",
       "      <th>16</th>\n",
       "      <td>pagi</td>\n",
       "      <td>Selamat pagi</td>\n",
       "      <td>[Selamat pagi. Bagaimana perasaan kamu hari ini?]</td>\n",
       "    </tr>\n",
       "    <tr>\n",
       "      <th>17</th>\n",
       "      <td>siang</td>\n",
       "      <td>Siang</td>\n",
       "      <td>[Selamat siang. Bagaimana kabar kamu ini?]</td>\n",
       "    </tr>\n",
       "    <tr>\n",
       "      <th>18</th>\n",
       "      <td>siang</td>\n",
       "      <td>Selamat siang</td>\n",
       "      <td>[Selamat siang. Bagaimana kabar kamu ini?]</td>\n",
       "    </tr>\n",
       "    <tr>\n",
       "      <th>19</th>\n",
       "      <td>sore</td>\n",
       "      <td>Sore</td>\n",
       "      <td>[Selamat sore. Apa yang bisa LISA bantu hari i...</td>\n",
       "    </tr>\n",
       "    <tr>\n",
       "      <th>20</th>\n",
       "      <td>sore</td>\n",
       "      <td>Selamat sore</td>\n",
       "      <td>[Selamat sore. Apa yang bisa LISA bantu hari i...</td>\n",
       "    </tr>\n",
       "    <tr>\n",
       "      <th>21</th>\n",
       "      <td>malam</td>\n",
       "      <td>Malam</td>\n",
       "      <td>[Selamat malam. Bagaimana kabar kamu?]</td>\n",
       "    </tr>\n",
       "    <tr>\n",
       "      <th>22</th>\n",
       "      <td>malam</td>\n",
       "      <td>Selamat malam</td>\n",
       "      <td>[Selamat malam. Bagaimana kabar kamu?]</td>\n",
       "    </tr>\n",
       "    <tr>\n",
       "      <th>23</th>\n",
       "      <td>penutup</td>\n",
       "      <td>Selamat tinggal</td>\n",
       "      <td>[Sampai jumpa lagi., Semoga harimu menyenangka...</td>\n",
       "    </tr>\n",
       "    <tr>\n",
       "      <th>24</th>\n",
       "      <td>penutup</td>\n",
       "      <td>Sampai jumpa</td>\n",
       "      <td>[Sampai jumpa lagi., Semoga harimu menyenangka...</td>\n",
       "    </tr>\n",
       "    <tr>\n",
       "      <th>25</th>\n",
       "      <td>penutup</td>\n",
       "      <td>Dadah</td>\n",
       "      <td>[Sampai jumpa lagi., Semoga harimu menyenangka...</td>\n",
       "    </tr>\n",
       "    <tr>\n",
       "      <th>26</th>\n",
       "      <td>penutup</td>\n",
       "      <td>Goodbye</td>\n",
       "      <td>[Sampai jumpa lagi., Semoga harimu menyenangka...</td>\n",
       "    </tr>\n",
       "    <tr>\n",
       "      <th>27</th>\n",
       "      <td>terima_kasih</td>\n",
       "      <td>Terima kasih</td>\n",
       "      <td>[Sama-sama!, Dengan senang hati!, Kapan pun!, ...</td>\n",
       "    </tr>\n",
       "    <tr>\n",
       "      <th>28</th>\n",
       "      <td>terima_kasih</td>\n",
       "      <td>Makasih</td>\n",
       "      <td>[Sama-sama!, Dengan senang hati!, Kapan pun!, ...</td>\n",
       "    </tr>\n",
       "    <tr>\n",
       "      <th>29</th>\n",
       "      <td>terima_kasih</td>\n",
       "      <td>Itu sangat membantu</td>\n",
       "      <td>[Sama-sama!, Dengan senang hati!, Kapan pun!, ...</td>\n",
       "    </tr>\n",
       "    <tr>\n",
       "      <th>30</th>\n",
       "      <td>terima_kasih</td>\n",
       "      <td>Terima kasih atas bantuannya</td>\n",
       "      <td>[Sama-sama!, Dengan senang hati!, Kapan pun!, ...</td>\n",
       "    </tr>\n",
       "    <tr>\n",
       "      <th>31</th>\n",
       "      <td>terima_kasih</td>\n",
       "      <td>Terima kasih infonya</td>\n",
       "      <td>[Sama-sama!, Dengan senang hati!, Kapan pun!, ...</td>\n",
       "    </tr>\n",
       "    <tr>\n",
       "      <th>32</th>\n",
       "      <td>tidak_respon</td>\n",
       "      <td></td>\n",
       "      <td>[Maaf, saya tidak mengerti., Silakan lanjutkan...</td>\n",
       "    </tr>\n",
       "    <tr>\n",
       "      <th>33</th>\n",
       "      <td>tentang_saya</td>\n",
       "      <td>Ceritakan tentang dirimu</td>\n",
       "      <td>[Saya adalah LISA (Lampung Sehat Asistant). Sa...</td>\n",
       "    </tr>\n",
       "    <tr>\n",
       "      <th>34</th>\n",
       "      <td>tentang_saya</td>\n",
       "      <td>Siapa kamu?</td>\n",
       "      <td>[Saya adalah LISA (Lampung Sehat Asistant). Sa...</td>\n",
       "    </tr>\n",
       "    <tr>\n",
       "      <th>35</th>\n",
       "      <td>tentang_saya</td>\n",
       "      <td>Apa yang kamu lakukan?</td>\n",
       "      <td>[Saya adalah LISA (Lampung Sehat Asistant). Sa...</td>\n",
       "    </tr>\n",
       "    <tr>\n",
       "      <th>36</th>\n",
       "      <td>tentang_saya</td>\n",
       "      <td>Apa namamu?</td>\n",
       "      <td>[Saya adalah LISA (Lampung Sehat Asistant). Sa...</td>\n",
       "    </tr>\n",
       "    <tr>\n",
       "      <th>37</th>\n",
       "      <td>tentang_saya</td>\n",
       "      <td>Siapa dirimu?</td>\n",
       "      <td>[Saya adalah LISA (Lampung Sehat Asistant). Sa...</td>\n",
       "    </tr>\n",
       "    <tr>\n",
       "      <th>38</th>\n",
       "      <td>kemampuan</td>\n",
       "      <td>Apa yang bisa kamu lakukan?</td>\n",
       "      <td>[Saya bisa memberikan informasi umum tentang T...</td>\n",
       "    </tr>\n",
       "    <tr>\n",
       "      <th>39</th>\n",
       "      <td>kemampuan</td>\n",
       "      <td>Bisa bantu apa?</td>\n",
       "      <td>[Saya bisa memberikan informasi umum tentang T...</td>\n",
       "    </tr>\n",
       "    <tr>\n",
       "      <th>40</th>\n",
       "      <td>kemampuan</td>\n",
       "      <td>Apa kemampuanmu?</td>\n",
       "      <td>[Saya bisa memberikan informasi umum tentang T...</td>\n",
       "    </tr>\n",
       "    <tr>\n",
       "      <th>41</th>\n",
       "      <td>pembuat</td>\n",
       "      <td>Siapa yang membuatmu?</td>\n",
       "      <td>[Saya dikembangkan oleh tim Inisiatif Lampung ...</td>\n",
       "    </tr>\n",
       "    <tr>\n",
       "      <th>42</th>\n",
       "      <td>pembuat</td>\n",
       "      <td>Bagaimana kamu dibuat?</td>\n",
       "      <td>[Saya dikembangkan oleh tim Inisiatif Lampung ...</td>\n",
       "    </tr>\n",
       "    <tr>\n",
       "      <th>43</th>\n",
       "      <td>pembuat</td>\n",
       "      <td>Siapa penciptamu?</td>\n",
       "      <td>[Saya dikembangkan oleh tim Inisiatif Lampung ...</td>\n",
       "    </tr>\n",
       "    <tr>\n",
       "      <th>44</th>\n",
       "      <td>nama</td>\n",
       "      <td>Nama saya</td>\n",
       "      <td>[Senang bertemu dengan kamu! Bagaimana kabar k...</td>\n",
       "    </tr>\n",
       "    <tr>\n",
       "      <th>45</th>\n",
       "      <td>nama</td>\n",
       "      <td>Saya bernama</td>\n",
       "      <td>[Senang bertemu dengan kamu! Bagaimana kabar k...</td>\n",
       "    </tr>\n",
       "    <tr>\n",
       "      <th>46</th>\n",
       "      <td>nama</td>\n",
       "      <td>Panggil saya</td>\n",
       "      <td>[Senang bertemu dengan kamu! Bagaimana kabar k...</td>\n",
       "    </tr>\n",
       "    <tr>\n",
       "      <th>47</th>\n",
       "      <td>bantuan</td>\n",
       "      <td>Bisakah kamu membantu saya?</td>\n",
       "      <td>[Tentu saja. Bagaimana LISA bisa membantu kamu...</td>\n",
       "    </tr>\n",
       "    <tr>\n",
       "      <th>48</th>\n",
       "      <td>bantuan</td>\n",
       "      <td>Tolong bantu saya</td>\n",
       "      <td>[Tentu saja. Bagaimana LISA bisa membantu kamu...</td>\n",
       "    </tr>\n",
       "    <tr>\n",
       "      <th>49</th>\n",
       "      <td>bantuan</td>\n",
       "      <td>Saya butuh bantuan</td>\n",
       "      <td>[Tentu saja. Bagaimana LISA bisa membantu kamu...</td>\n",
       "    </tr>\n",
       "    <tr>\n",
       "      <th>50</th>\n",
       "      <td>bantuan</td>\n",
       "      <td>Apa yang bisa kamu bantu?</td>\n",
       "      <td>[Tentu saja. Bagaimana LISA bisa membantu kamu...</td>\n",
       "    </tr>\n",
       "    <tr>\n",
       "      <th>51</th>\n",
       "      <td>bantuan</td>\n",
       "      <td>Tolong dukung saya</td>\n",
       "      <td>[Tentu saja. Bagaimana LISA bisa membantu kamu...</td>\n",
       "    </tr>\n",
       "    <tr>\n",
       "      <th>52</th>\n",
       "      <td>bantuan</td>\n",
       "      <td>Ya</td>\n",
       "      <td>[Tentu saja. Bagaimana LISA bisa membantu kamu...</td>\n",
       "    </tr>\n",
       "  </tbody>\n",
       "</table>\n",
       "</div>"
      ],
      "text/plain": [
       "             tag                           patterns  \\\n",
       "0          salam                                Hai   \n",
       "1          salam                                Hei   \n",
       "2          salam                                 Hi   \n",
       "3          salam                               Halo   \n",
       "4          salam                               Hola   \n",
       "5          salam                              Hello   \n",
       "6          salam                             Wassap   \n",
       "7          salam                              Yuhuu   \n",
       "8          salam                  Ada yang di sana?   \n",
       "9          salam                       Selamat pagi   \n",
       "10         salam                      Selamat siang   \n",
       "11         salam                       Selamat sore   \n",
       "12         salam                      Selamat malam   \n",
       "13         salam  Apakah ini chatbot Tuberkulosis ?   \n",
       "14         salam            Apakah ini chatbot TBC?   \n",
       "15          pagi                               Pagi   \n",
       "16          pagi                       Selamat pagi   \n",
       "17         siang                              Siang   \n",
       "18         siang                      Selamat siang   \n",
       "19          sore                               Sore   \n",
       "20          sore                       Selamat sore   \n",
       "21         malam                              Malam   \n",
       "22         malam                      Selamat malam   \n",
       "23       penutup                    Selamat tinggal   \n",
       "24       penutup                       Sampai jumpa   \n",
       "25       penutup                              Dadah   \n",
       "26       penutup                            Goodbye   \n",
       "27  terima_kasih                       Terima kasih   \n",
       "28  terima_kasih                            Makasih   \n",
       "29  terima_kasih                Itu sangat membantu   \n",
       "30  terima_kasih       Terima kasih atas bantuannya   \n",
       "31  terima_kasih               Terima kasih infonya   \n",
       "32  tidak_respon                                      \n",
       "33  tentang_saya           Ceritakan tentang dirimu   \n",
       "34  tentang_saya                        Siapa kamu?   \n",
       "35  tentang_saya             Apa yang kamu lakukan?   \n",
       "36  tentang_saya                        Apa namamu?   \n",
       "37  tentang_saya                      Siapa dirimu?   \n",
       "38     kemampuan        Apa yang bisa kamu lakukan?   \n",
       "39     kemampuan                    Bisa bantu apa?   \n",
       "40     kemampuan                   Apa kemampuanmu?   \n",
       "41       pembuat              Siapa yang membuatmu?   \n",
       "42       pembuat             Bagaimana kamu dibuat?   \n",
       "43       pembuat                  Siapa penciptamu?   \n",
       "44          nama                         Nama saya    \n",
       "45          nama                      Saya bernama    \n",
       "46          nama                      Panggil saya    \n",
       "47       bantuan        Bisakah kamu membantu saya?   \n",
       "48       bantuan                  Tolong bantu saya   \n",
       "49       bantuan                 Saya butuh bantuan   \n",
       "50       bantuan          Apa yang bisa kamu bantu?   \n",
       "51       bantuan                 Tolong dukung saya   \n",
       "52       bantuan                                 Ya   \n",
       "\n",
       "                                            responses  \n",
       "0   [Halo! Bagaimana LISA bisa membantu kamu?, Hai...  \n",
       "1   [Halo! Bagaimana LISA bisa membantu kamu?, Hai...  \n",
       "2   [Halo! Bagaimana LISA bisa membantu kamu?, Hai...  \n",
       "3   [Halo! Bagaimana LISA bisa membantu kamu?, Hai...  \n",
       "4   [Halo! Bagaimana LISA bisa membantu kamu?, Hai...  \n",
       "5   [Halo! Bagaimana LISA bisa membantu kamu?, Hai...  \n",
       "6   [Halo! Bagaimana LISA bisa membantu kamu?, Hai...  \n",
       "7   [Halo! Bagaimana LISA bisa membantu kamu?, Hai...  \n",
       "8   [Halo! Bagaimana LISA bisa membantu kamu?, Hai...  \n",
       "9   [Halo! Bagaimana LISA bisa membantu kamu?, Hai...  \n",
       "10  [Halo! Bagaimana LISA bisa membantu kamu?, Hai...  \n",
       "11  [Halo! Bagaimana LISA bisa membantu kamu?, Hai...  \n",
       "12  [Halo! Bagaimana LISA bisa membantu kamu?, Hai...  \n",
       "13  [Halo! Bagaimana LISA bisa membantu kamu?, Hai...  \n",
       "14  [Halo! Bagaimana LISA bisa membantu kamu?, Hai...  \n",
       "15  [Selamat pagi. Bagaimana perasaan kamu hari ini?]  \n",
       "16  [Selamat pagi. Bagaimana perasaan kamu hari ini?]  \n",
       "17         [Selamat siang. Bagaimana kabar kamu ini?]  \n",
       "18         [Selamat siang. Bagaimana kabar kamu ini?]  \n",
       "19  [Selamat sore. Apa yang bisa LISA bantu hari i...  \n",
       "20  [Selamat sore. Apa yang bisa LISA bantu hari i...  \n",
       "21             [Selamat malam. Bagaimana kabar kamu?]  \n",
       "22             [Selamat malam. Bagaimana kabar kamu?]  \n",
       "23  [Sampai jumpa lagi., Semoga harimu menyenangka...  \n",
       "24  [Sampai jumpa lagi., Semoga harimu menyenangka...  \n",
       "25  [Sampai jumpa lagi., Semoga harimu menyenangka...  \n",
       "26  [Sampai jumpa lagi., Semoga harimu menyenangka...  \n",
       "27  [Sama-sama!, Dengan senang hati!, Kapan pun!, ...  \n",
       "28  [Sama-sama!, Dengan senang hati!, Kapan pun!, ...  \n",
       "29  [Sama-sama!, Dengan senang hati!, Kapan pun!, ...  \n",
       "30  [Sama-sama!, Dengan senang hati!, Kapan pun!, ...  \n",
       "31  [Sama-sama!, Dengan senang hati!, Kapan pun!, ...  \n",
       "32  [Maaf, saya tidak mengerti., Silakan lanjutkan...  \n",
       "33  [Saya adalah LISA (Lampung Sehat Asistant). Sa...  \n",
       "34  [Saya adalah LISA (Lampung Sehat Asistant). Sa...  \n",
       "35  [Saya adalah LISA (Lampung Sehat Asistant). Sa...  \n",
       "36  [Saya adalah LISA (Lampung Sehat Asistant). Sa...  \n",
       "37  [Saya adalah LISA (Lampung Sehat Asistant). Sa...  \n",
       "38  [Saya bisa memberikan informasi umum tentang T...  \n",
       "39  [Saya bisa memberikan informasi umum tentang T...  \n",
       "40  [Saya bisa memberikan informasi umum tentang T...  \n",
       "41  [Saya dikembangkan oleh tim Inisiatif Lampung ...  \n",
       "42  [Saya dikembangkan oleh tim Inisiatif Lampung ...  \n",
       "43  [Saya dikembangkan oleh tim Inisiatif Lampung ...  \n",
       "44  [Senang bertemu dengan kamu! Bagaimana kabar k...  \n",
       "45  [Senang bertemu dengan kamu! Bagaimana kabar k...  \n",
       "46  [Senang bertemu dengan kamu! Bagaimana kabar k...  \n",
       "47  [Tentu saja. Bagaimana LISA bisa membantu kamu...  \n",
       "48  [Tentu saja. Bagaimana LISA bisa membantu kamu...  \n",
       "49  [Tentu saja. Bagaimana LISA bisa membantu kamu...  \n",
       "50  [Tentu saja. Bagaimana LISA bisa membantu kamu...  \n",
       "51  [Tentu saja. Bagaimana LISA bisa membantu kamu...  \n",
       "52  [Tentu saja. Bagaimana LISA bisa membantu kamu...  "
      ]
     },
     "execution_count": 52,
     "metadata": {},
     "output_type": "execute_result"
    }
   ],
   "source": [
    "dic = {\"tag\":[], \"patterns\":[], \"responses\":[]}  # Membuat dictionary kosong untuk menyimpan data yang akan diubah ke DataFrame\n",
    "for i in range(len(df)):\n",
    "    ptrns = df[df.index == i]['patterns'].values[0]  # Mengambil pola (patterns) dari DataFrame\n",
    "    rspns = df[df.index == i]['responses'].values[0]  # Mengambil respons dari DataFrame\n",
    "    tag = df[df.index == i]['tag'].values[0]  # Mengambil tag dari DataFrame\n",
    "    for j in range(len(ptrns)):\n",
    "        dic['tag'].append(tag)  # Menambahkan tag ke dalam dictionary\n",
    "        dic['patterns'].append(ptrns[j])  # Menambahkan pola ke dalam dictionary\n",
    "        dic['responses'].append(rspns)  # Menambahkan respons ke dalam dictionary\n",
    "\n",
    "df = pd.DataFrame.from_dict(dic)  # Membuat DataFrame baru dari dictionary\n",
    "pd.set_option(\"display.max_rows\", None)  # Menampilkan semua baris DataFrame ketika ditampilkan\n",
    "df  # Menampilkan DataFrame\n"
   ]
  },
  {
   "cell_type": "code",
   "execution_count": 53,
   "metadata": {
    "colab": {
     "base_uri": "https://localhost:8080/"
    },
    "id": "IVehQ1-Gj5l_",
    "outputId": "d7e87340-1e99-45f2-89a2-51fef340c905"
   },
   "outputs": [
    {
     "data": {
      "text/plain": [
       "array(['salam', 'pagi', 'siang', 'sore', 'malam', 'penutup',\n",
       "       'terima_kasih', 'tidak_respon', 'tentang_saya', 'kemampuan',\n",
       "       'pembuat', 'nama', 'bantuan'], dtype=object)"
      ]
     },
     "execution_count": 53,
     "metadata": {},
     "output_type": "execute_result"
    }
   ],
   "source": [
    "df['tag'].unique()"
   ]
  },
  {
   "cell_type": "code",
   "execution_count": 54,
   "metadata": {
    "colab": {
     "base_uri": "https://localhost:8080/"
    },
    "id": "VSTci4o4j7lq",
    "outputId": "dee3e9d3-c532-4d1a-94fd-aa194b62cd85",
    "scrolled": true
   },
   "outputs": [
    {
     "data": {
      "text/plain": [
       "{'num_words': None,\n",
       " 'filters': '!\"#$%&()*+,-./:;<=>?@[\\\\]^_`{|}~\\t\\n',\n",
       " 'lower': True,\n",
       " 'split': ' ',\n",
       " 'char_level': False,\n",
       " 'oov_token': None,\n",
       " 'document_count': 53,\n",
       " 'word_counts': '{\"hai\": 1, \"hei\": 1, \"hi\": 1, \"halo\": 1, \"hola\": 1, \"hello\": 1, \"wassap\": 1, \"yuhuu\": 1, \"ada\": 1, \"yang\": 5, \"di\": 1, \"sana\": 1, \"selamat\": 9, \"pagi\": 3, \"siang\": 3, \"sore\": 3, \"malam\": 3, \"apakah\": 2, \"ini\": 2, \"chatbot\": 2, \"tuberkulosis\": 1, \"tbc\": 1, \"tinggal\": 1, \"sampai\": 1, \"jumpa\": 1, \"dadah\": 1, \"goodbye\": 1, \"terima\": 3, \"kasih\": 3, \"makasih\": 1, \"itu\": 1, \"sangat\": 1, \"membantu\": 2, \"atas\": 1, \"bantuannya\": 1, \"infonya\": 1, \"ceritakan\": 1, \"tentang\": 1, \"dirimu\": 2, \"siapa\": 4, \"kamu\": 6, \"apa\": 6, \"lakukan\": 2, \"namamu\": 1, \"bisa\": 3, \"bantu\": 3, \"kemampuanmu\": 1, \"membuatmu\": 1, \"bagaimana\": 1, \"dibuat\": 1, \"penciptamu\": 1, \"nama\": 1, \"saya\": 7, \"bernama\": 1, \"panggil\": 1, \"bisakah\": 1, \"tolong\": 2, \"butuh\": 1, \"bantuan\": 1, \"dukung\": 1, \"ya\": 1}',\n",
       " 'word_docs': '{\"hai\": 1, \"hei\": 1, \"hi\": 1, \"halo\": 1, \"hola\": 1, \"hello\": 1, \"wassap\": 1, \"yuhuu\": 1, \"di\": 1, \"ada\": 1, \"sana\": 1, \"yang\": 5, \"selamat\": 9, \"pagi\": 3, \"siang\": 3, \"sore\": 3, \"malam\": 3, \"ini\": 2, \"apakah\": 2, \"chatbot\": 2, \"tuberkulosis\": 1, \"tbc\": 1, \"tinggal\": 1, \"sampai\": 1, \"jumpa\": 1, \"dadah\": 1, \"goodbye\": 1, \"kasih\": 3, \"terima\": 3, \"makasih\": 1, \"sangat\": 1, \"itu\": 1, \"membantu\": 2, \"atas\": 1, \"bantuannya\": 1, \"infonya\": 1, \"ceritakan\": 1, \"tentang\": 1, \"dirimu\": 2, \"siapa\": 4, \"kamu\": 6, \"lakukan\": 2, \"apa\": 6, \"namamu\": 1, \"bisa\": 3, \"bantu\": 3, \"kemampuanmu\": 1, \"membuatmu\": 1, \"dibuat\": 1, \"bagaimana\": 1, \"penciptamu\": 1, \"nama\": 1, \"saya\": 7, \"bernama\": 1, \"panggil\": 1, \"bisakah\": 1, \"tolong\": 2, \"bantuan\": 1, \"butuh\": 1, \"dukung\": 1, \"ya\": 1}',\n",
       " 'index_docs': '{\"22\": 1, \"23\": 1, \"24\": 1, \"25\": 1, \"26\": 1, \"27\": 1, \"28\": 1, \"29\": 1, \"31\": 1, \"30\": 1, \"32\": 1, \"5\": 5, \"1\": 9, \"7\": 3, \"8\": 3, \"9\": 3, \"10\": 3, \"16\": 2, \"15\": 2, \"17\": 2, \"33\": 1, \"34\": 1, \"35\": 1, \"36\": 1, \"37\": 1, \"38\": 1, \"39\": 1, \"12\": 3, \"11\": 3, \"40\": 1, \"42\": 1, \"41\": 1, \"18\": 2, \"43\": 1, \"44\": 1, \"45\": 1, \"46\": 1, \"47\": 1, \"19\": 2, \"6\": 4, \"3\": 6, \"20\": 2, \"4\": 6, \"48\": 1, \"13\": 3, \"14\": 3, \"49\": 1, \"50\": 1, \"52\": 1, \"51\": 1, \"53\": 1, \"54\": 1, \"2\": 7, \"55\": 1, \"56\": 1, \"57\": 1, \"21\": 2, \"59\": 1, \"58\": 1, \"60\": 1, \"61\": 1}',\n",
       " 'index_word': '{\"1\": \"selamat\", \"2\": \"saya\", \"3\": \"kamu\", \"4\": \"apa\", \"5\": \"yang\", \"6\": \"siapa\", \"7\": \"pagi\", \"8\": \"siang\", \"9\": \"sore\", \"10\": \"malam\", \"11\": \"terima\", \"12\": \"kasih\", \"13\": \"bisa\", \"14\": \"bantu\", \"15\": \"apakah\", \"16\": \"ini\", \"17\": \"chatbot\", \"18\": \"membantu\", \"19\": \"dirimu\", \"20\": \"lakukan\", \"21\": \"tolong\", \"22\": \"hai\", \"23\": \"hei\", \"24\": \"hi\", \"25\": \"halo\", \"26\": \"hola\", \"27\": \"hello\", \"28\": \"wassap\", \"29\": \"yuhuu\", \"30\": \"ada\", \"31\": \"di\", \"32\": \"sana\", \"33\": \"tuberkulosis\", \"34\": \"tbc\", \"35\": \"tinggal\", \"36\": \"sampai\", \"37\": \"jumpa\", \"38\": \"dadah\", \"39\": \"goodbye\", \"40\": \"makasih\", \"41\": \"itu\", \"42\": \"sangat\", \"43\": \"atas\", \"44\": \"bantuannya\", \"45\": \"infonya\", \"46\": \"ceritakan\", \"47\": \"tentang\", \"48\": \"namamu\", \"49\": \"kemampuanmu\", \"50\": \"membuatmu\", \"51\": \"bagaimana\", \"52\": \"dibuat\", \"53\": \"penciptamu\", \"54\": \"nama\", \"55\": \"bernama\", \"56\": \"panggil\", \"57\": \"bisakah\", \"58\": \"butuh\", \"59\": \"bantuan\", \"60\": \"dukung\", \"61\": \"ya\"}',\n",
       " 'word_index': '{\"selamat\": 1, \"saya\": 2, \"kamu\": 3, \"apa\": 4, \"yang\": 5, \"siapa\": 6, \"pagi\": 7, \"siang\": 8, \"sore\": 9, \"malam\": 10, \"terima\": 11, \"kasih\": 12, \"bisa\": 13, \"bantu\": 14, \"apakah\": 15, \"ini\": 16, \"chatbot\": 17, \"membantu\": 18, \"dirimu\": 19, \"lakukan\": 20, \"tolong\": 21, \"hai\": 22, \"hei\": 23, \"hi\": 24, \"halo\": 25, \"hola\": 26, \"hello\": 27, \"wassap\": 28, \"yuhuu\": 29, \"ada\": 30, \"di\": 31, \"sana\": 32, \"tuberkulosis\": 33, \"tbc\": 34, \"tinggal\": 35, \"sampai\": 36, \"jumpa\": 37, \"dadah\": 38, \"goodbye\": 39, \"makasih\": 40, \"itu\": 41, \"sangat\": 42, \"atas\": 43, \"bantuannya\": 44, \"infonya\": 45, \"ceritakan\": 46, \"tentang\": 47, \"namamu\": 48, \"kemampuanmu\": 49, \"membuatmu\": 50, \"bagaimana\": 51, \"dibuat\": 52, \"penciptamu\": 53, \"nama\": 54, \"bernama\": 55, \"panggil\": 56, \"bisakah\": 57, \"butuh\": 58, \"bantuan\": 59, \"dukung\": 60, \"ya\": 61}'}"
      ]
     },
     "execution_count": 54,
     "metadata": {},
     "output_type": "execute_result"
    }
   ],
   "source": [
    "from keras._tf_keras.keras.preprocessing.text import Tokenizer\n",
    "\n",
    "tokenizer = Tokenizer(lower=True, split=' ')\n",
    "tokenizer.fit_on_texts(df['patterns'])\n",
    "tokenizer.get_config()"
   ]
  },
  {
   "cell_type": "code",
   "execution_count": 55,
   "metadata": {
    "colab": {
     "base_uri": "https://localhost:8080/"
    },
    "id": "nbioRZWuj_Lr",
    "outputId": "c2b41775-cbe5-47cf-b107-e9d633aab0f3"
   },
   "outputs": [
    {
     "name": "stdout",
     "output_type": "stream",
     "text": [
      "number of unique words =  61\n"
     ]
    }
   ],
   "source": [
    "vocab_size = len(tokenizer.word_index)  # Menghitung jumlah kata unik dalam tokenizer\n",
    "print('number of unique words = ', vocab_size)  # Menampilkan jumlah kata unik"
   ]
  },
  {
   "cell_type": "code",
   "execution_count": 56,
   "metadata": {
    "colab": {
     "base_uri": "https://localhost:8080/"
    },
    "id": "phREbSbikDJ6",
    "outputId": "cfe2f382-bd25-411c-a92d-b43135f4bda4"
   },
   "outputs": [
    {
     "name": "stdout",
     "output_type": "stream",
     "text": [
      "X shape =  (53, 5)\n",
      "y shape =  (53,)\n",
      "num of classes =  13\n"
     ]
    }
   ],
   "source": [
    "from keras._tf_keras.keras.preprocessing.sequence import pad_sequences\n",
    "from sklearn.preprocessing import LabelEncoder \n",
    "\n",
    "ptrn2seq = tokenizer.texts_to_sequences(df['patterns'])  # Mengonversi teks pola menjadi urutan angka\n",
    "X = pad_sequences(ptrn2seq, padding='post')  # Melakukan padding terhadap urutan angka\n",
    "print('X shape = ', X.shape)  # Menampilkan bentuk (shape) dari X\n",
    "\n",
    "lbl_enc = LabelEncoder()  # Membuat objek LabelEncoder\n",
    "y = lbl_enc.fit_transform(df['tag'])  # Mengonversi label kelas menjadi angka\n",
    "print('y shape = ', y.shape)  # Menampilkan bentuk (shape) dari y\n",
    "print('num of classes = ', len(np.unique(y)))  # Menampilkan jumlah kelas unik"
   ]
  },
  {
   "cell_type": "code",
   "execution_count": 57,
   "metadata": {
    "colab": {
     "base_uri": "https://localhost:8080/",
     "height": 1000
    },
    "id": "qDqdOGbJkGd9",
    "outputId": "3359a2a6-5880-49d9-9183-87aa701fa5ce"
   },
   "outputs": [
    {
     "data": {
      "text/html": [
       "<pre style=\"white-space:pre;overflow-x:auto;line-height:normal;font-family:Menlo,'DejaVu Sans Mono',consolas,'Courier New',monospace\"><span style=\"font-weight: bold\">Model: \"sequential_3\"</span>\n",
       "</pre>\n"
      ],
      "text/plain": [
       "\u001b[1mModel: \"sequential_3\"\u001b[0m\n"
      ]
     },
     "metadata": {},
     "output_type": "display_data"
    },
    {
     "data": {
      "text/html": [
       "<pre style=\"white-space:pre;overflow-x:auto;line-height:normal;font-family:Menlo,'DejaVu Sans Mono',consolas,'Courier New',monospace\">┏━━━━━━━━━━━━━━━━━━━━━━━━━━━━━━━━━┳━━━━━━━━━━━━━━━━━━━━━━━━┳━━━━━━━━━━━━━━━┓\n",
       "┃<span style=\"font-weight: bold\"> Layer (type)                    </span>┃<span style=\"font-weight: bold\"> Output Shape           </span>┃<span style=\"font-weight: bold\">       Param # </span>┃\n",
       "┡━━━━━━━━━━━━━━━━━━━━━━━━━━━━━━━━━╇━━━━━━━━━━━━━━━━━━━━━━━━╇━━━━━━━━━━━━━━━┩\n",
       "│ embedding_3 (<span style=\"color: #0087ff; text-decoration-color: #0087ff\">Embedding</span>)         │ (<span style=\"color: #00d7ff; text-decoration-color: #00d7ff\">None</span>, <span style=\"color: #00af00; text-decoration-color: #00af00\">5</span>, <span style=\"color: #00af00; text-decoration-color: #00af00\">100</span>)         │         <span style=\"color: #00af00; text-decoration-color: #00af00\">6,200</span> │\n",
       "├─────────────────────────────────┼────────────────────────┼───────────────┤\n",
       "│ lstm_9 (<span style=\"color: #0087ff; text-decoration-color: #0087ff\">LSTM</span>)                   │ (<span style=\"color: #00d7ff; text-decoration-color: #00d7ff\">None</span>, <span style=\"color: #00af00; text-decoration-color: #00af00\">5</span>, <span style=\"color: #00af00; text-decoration-color: #00af00\">32</span>)          │        <span style=\"color: #00af00; text-decoration-color: #00af00\">17,024</span> │\n",
       "├─────────────────────────────────┼────────────────────────┼───────────────┤\n",
       "│ layer_normalization_15          │ (<span style=\"color: #00d7ff; text-decoration-color: #00d7ff\">None</span>, <span style=\"color: #00af00; text-decoration-color: #00af00\">5</span>, <span style=\"color: #00af00; text-decoration-color: #00af00\">32</span>)          │            <span style=\"color: #00af00; text-decoration-color: #00af00\">64</span> │\n",
       "│ (<span style=\"color: #0087ff; text-decoration-color: #0087ff\">LayerNormalization</span>)            │                        │               │\n",
       "├─────────────────────────────────┼────────────────────────┼───────────────┤\n",
       "│ lstm_10 (<span style=\"color: #0087ff; text-decoration-color: #0087ff\">LSTM</span>)                  │ (<span style=\"color: #00d7ff; text-decoration-color: #00d7ff\">None</span>, <span style=\"color: #00af00; text-decoration-color: #00af00\">5</span>, <span style=\"color: #00af00; text-decoration-color: #00af00\">32</span>)          │         <span style=\"color: #00af00; text-decoration-color: #00af00\">8,320</span> │\n",
       "├─────────────────────────────────┼────────────────────────┼───────────────┤\n",
       "│ layer_normalization_16          │ (<span style=\"color: #00d7ff; text-decoration-color: #00d7ff\">None</span>, <span style=\"color: #00af00; text-decoration-color: #00af00\">5</span>, <span style=\"color: #00af00; text-decoration-color: #00af00\">32</span>)          │            <span style=\"color: #00af00; text-decoration-color: #00af00\">64</span> │\n",
       "│ (<span style=\"color: #0087ff; text-decoration-color: #0087ff\">LayerNormalization</span>)            │                        │               │\n",
       "├─────────────────────────────────┼────────────────────────┼───────────────┤\n",
       "│ lstm_11 (<span style=\"color: #0087ff; text-decoration-color: #0087ff\">LSTM</span>)                  │ (<span style=\"color: #00d7ff; text-decoration-color: #00d7ff\">None</span>, <span style=\"color: #00af00; text-decoration-color: #00af00\">32</span>)             │         <span style=\"color: #00af00; text-decoration-color: #00af00\">8,320</span> │\n",
       "├─────────────────────────────────┼────────────────────────┼───────────────┤\n",
       "│ layer_normalization_17          │ (<span style=\"color: #00d7ff; text-decoration-color: #00d7ff\">None</span>, <span style=\"color: #00af00; text-decoration-color: #00af00\">32</span>)             │            <span style=\"color: #00af00; text-decoration-color: #00af00\">64</span> │\n",
       "│ (<span style=\"color: #0087ff; text-decoration-color: #0087ff\">LayerNormalization</span>)            │                        │               │\n",
       "├─────────────────────────────────┼────────────────────────┼───────────────┤\n",
       "│ dense_9 (<span style=\"color: #0087ff; text-decoration-color: #0087ff\">Dense</span>)                 │ (<span style=\"color: #00d7ff; text-decoration-color: #00d7ff\">None</span>, <span style=\"color: #00af00; text-decoration-color: #00af00\">128</span>)            │         <span style=\"color: #00af00; text-decoration-color: #00af00\">4,224</span> │\n",
       "├─────────────────────────────────┼────────────────────────┼───────────────┤\n",
       "│ layer_normalization_18          │ (<span style=\"color: #00d7ff; text-decoration-color: #00d7ff\">None</span>, <span style=\"color: #00af00; text-decoration-color: #00af00\">128</span>)            │           <span style=\"color: #00af00; text-decoration-color: #00af00\">256</span> │\n",
       "│ (<span style=\"color: #0087ff; text-decoration-color: #0087ff\">LayerNormalization</span>)            │                        │               │\n",
       "├─────────────────────────────────┼────────────────────────┼───────────────┤\n",
       "│ dropout_6 (<span style=\"color: #0087ff; text-decoration-color: #0087ff\">Dropout</span>)             │ (<span style=\"color: #00d7ff; text-decoration-color: #00d7ff\">None</span>, <span style=\"color: #00af00; text-decoration-color: #00af00\">128</span>)            │             <span style=\"color: #00af00; text-decoration-color: #00af00\">0</span> │\n",
       "├─────────────────────────────────┼────────────────────────┼───────────────┤\n",
       "│ dense_10 (<span style=\"color: #0087ff; text-decoration-color: #0087ff\">Dense</span>)                │ (<span style=\"color: #00d7ff; text-decoration-color: #00d7ff\">None</span>, <span style=\"color: #00af00; text-decoration-color: #00af00\">128</span>)            │        <span style=\"color: #00af00; text-decoration-color: #00af00\">16,512</span> │\n",
       "├─────────────────────────────────┼────────────────────────┼───────────────┤\n",
       "│ layer_normalization_19          │ (<span style=\"color: #00d7ff; text-decoration-color: #00d7ff\">None</span>, <span style=\"color: #00af00; text-decoration-color: #00af00\">128</span>)            │           <span style=\"color: #00af00; text-decoration-color: #00af00\">256</span> │\n",
       "│ (<span style=\"color: #0087ff; text-decoration-color: #0087ff\">LayerNormalization</span>)            │                        │               │\n",
       "├─────────────────────────────────┼────────────────────────┼───────────────┤\n",
       "│ dropout_7 (<span style=\"color: #0087ff; text-decoration-color: #0087ff\">Dropout</span>)             │ (<span style=\"color: #00d7ff; text-decoration-color: #00d7ff\">None</span>, <span style=\"color: #00af00; text-decoration-color: #00af00\">128</span>)            │             <span style=\"color: #00af00; text-decoration-color: #00af00\">0</span> │\n",
       "├─────────────────────────────────┼────────────────────────┼───────────────┤\n",
       "│ dense_11 (<span style=\"color: #0087ff; text-decoration-color: #0087ff\">Dense</span>)                │ (<span style=\"color: #00d7ff; text-decoration-color: #00d7ff\">None</span>, <span style=\"color: #00af00; text-decoration-color: #00af00\">13</span>)             │         <span style=\"color: #00af00; text-decoration-color: #00af00\">1,677</span> │\n",
       "└─────────────────────────────────┴────────────────────────┴───────────────┘\n",
       "</pre>\n"
      ],
      "text/plain": [
       "┏━━━━━━━━━━━━━━━━━━━━━━━━━━━━━━━━━┳━━━━━━━━━━━━━━━━━━━━━━━━┳━━━━━━━━━━━━━━━┓\n",
       "┃\u001b[1m \u001b[0m\u001b[1mLayer (type)                   \u001b[0m\u001b[1m \u001b[0m┃\u001b[1m \u001b[0m\u001b[1mOutput Shape          \u001b[0m\u001b[1m \u001b[0m┃\u001b[1m \u001b[0m\u001b[1m      Param #\u001b[0m\u001b[1m \u001b[0m┃\n",
       "┡━━━━━━━━━━━━━━━━━━━━━━━━━━━━━━━━━╇━━━━━━━━━━━━━━━━━━━━━━━━╇━━━━━━━━━━━━━━━┩\n",
       "│ embedding_3 (\u001b[38;5;33mEmbedding\u001b[0m)         │ (\u001b[38;5;45mNone\u001b[0m, \u001b[38;5;34m5\u001b[0m, \u001b[38;5;34m100\u001b[0m)         │         \u001b[38;5;34m6,200\u001b[0m │\n",
       "├─────────────────────────────────┼────────────────────────┼───────────────┤\n",
       "│ lstm_9 (\u001b[38;5;33mLSTM\u001b[0m)                   │ (\u001b[38;5;45mNone\u001b[0m, \u001b[38;5;34m5\u001b[0m, \u001b[38;5;34m32\u001b[0m)          │        \u001b[38;5;34m17,024\u001b[0m │\n",
       "├─────────────────────────────────┼────────────────────────┼───────────────┤\n",
       "│ layer_normalization_15          │ (\u001b[38;5;45mNone\u001b[0m, \u001b[38;5;34m5\u001b[0m, \u001b[38;5;34m32\u001b[0m)          │            \u001b[38;5;34m64\u001b[0m │\n",
       "│ (\u001b[38;5;33mLayerNormalization\u001b[0m)            │                        │               │\n",
       "├─────────────────────────────────┼────────────────────────┼───────────────┤\n",
       "│ lstm_10 (\u001b[38;5;33mLSTM\u001b[0m)                  │ (\u001b[38;5;45mNone\u001b[0m, \u001b[38;5;34m5\u001b[0m, \u001b[38;5;34m32\u001b[0m)          │         \u001b[38;5;34m8,320\u001b[0m │\n",
       "├─────────────────────────────────┼────────────────────────┼───────────────┤\n",
       "│ layer_normalization_16          │ (\u001b[38;5;45mNone\u001b[0m, \u001b[38;5;34m5\u001b[0m, \u001b[38;5;34m32\u001b[0m)          │            \u001b[38;5;34m64\u001b[0m │\n",
       "│ (\u001b[38;5;33mLayerNormalization\u001b[0m)            │                        │               │\n",
       "├─────────────────────────────────┼────────────────────────┼───────────────┤\n",
       "│ lstm_11 (\u001b[38;5;33mLSTM\u001b[0m)                  │ (\u001b[38;5;45mNone\u001b[0m, \u001b[38;5;34m32\u001b[0m)             │         \u001b[38;5;34m8,320\u001b[0m │\n",
       "├─────────────────────────────────┼────────────────────────┼───────────────┤\n",
       "│ layer_normalization_17          │ (\u001b[38;5;45mNone\u001b[0m, \u001b[38;5;34m32\u001b[0m)             │            \u001b[38;5;34m64\u001b[0m │\n",
       "│ (\u001b[38;5;33mLayerNormalization\u001b[0m)            │                        │               │\n",
       "├─────────────────────────────────┼────────────────────────┼───────────────┤\n",
       "│ dense_9 (\u001b[38;5;33mDense\u001b[0m)                 │ (\u001b[38;5;45mNone\u001b[0m, \u001b[38;5;34m128\u001b[0m)            │         \u001b[38;5;34m4,224\u001b[0m │\n",
       "├─────────────────────────────────┼────────────────────────┼───────────────┤\n",
       "│ layer_normalization_18          │ (\u001b[38;5;45mNone\u001b[0m, \u001b[38;5;34m128\u001b[0m)            │           \u001b[38;5;34m256\u001b[0m │\n",
       "│ (\u001b[38;5;33mLayerNormalization\u001b[0m)            │                        │               │\n",
       "├─────────────────────────────────┼────────────────────────┼───────────────┤\n",
       "│ dropout_6 (\u001b[38;5;33mDropout\u001b[0m)             │ (\u001b[38;5;45mNone\u001b[0m, \u001b[38;5;34m128\u001b[0m)            │             \u001b[38;5;34m0\u001b[0m │\n",
       "├─────────────────────────────────┼────────────────────────┼───────────────┤\n",
       "│ dense_10 (\u001b[38;5;33mDense\u001b[0m)                │ (\u001b[38;5;45mNone\u001b[0m, \u001b[38;5;34m128\u001b[0m)            │        \u001b[38;5;34m16,512\u001b[0m │\n",
       "├─────────────────────────────────┼────────────────────────┼───────────────┤\n",
       "│ layer_normalization_19          │ (\u001b[38;5;45mNone\u001b[0m, \u001b[38;5;34m128\u001b[0m)            │           \u001b[38;5;34m256\u001b[0m │\n",
       "│ (\u001b[38;5;33mLayerNormalization\u001b[0m)            │                        │               │\n",
       "├─────────────────────────────────┼────────────────────────┼───────────────┤\n",
       "│ dropout_7 (\u001b[38;5;33mDropout\u001b[0m)             │ (\u001b[38;5;45mNone\u001b[0m, \u001b[38;5;34m128\u001b[0m)            │             \u001b[38;5;34m0\u001b[0m │\n",
       "├─────────────────────────────────┼────────────────────────┼───────────────┤\n",
       "│ dense_11 (\u001b[38;5;33mDense\u001b[0m)                │ (\u001b[38;5;45mNone\u001b[0m, \u001b[38;5;34m13\u001b[0m)             │         \u001b[38;5;34m1,677\u001b[0m │\n",
       "└─────────────────────────────────┴────────────────────────┴───────────────┘\n"
      ]
     },
     "metadata": {},
     "output_type": "display_data"
    },
    {
     "data": {
      "text/html": [
       "<pre style=\"white-space:pre;overflow-x:auto;line-height:normal;font-family:Menlo,'DejaVu Sans Mono',consolas,'Courier New',monospace\"><span style=\"font-weight: bold\"> Total params: </span><span style=\"color: #00af00; text-decoration-color: #00af00\">62,981</span> (246.02 KB)\n",
       "</pre>\n"
      ],
      "text/plain": [
       "\u001b[1m Total params: \u001b[0m\u001b[38;5;34m62,981\u001b[0m (246.02 KB)\n"
      ]
     },
     "metadata": {},
     "output_type": "display_data"
    },
    {
     "data": {
      "text/html": [
       "<pre style=\"white-space:pre;overflow-x:auto;line-height:normal;font-family:Menlo,'DejaVu Sans Mono',consolas,'Courier New',monospace\"><span style=\"font-weight: bold\"> Trainable params: </span><span style=\"color: #00af00; text-decoration-color: #00af00\">62,981</span> (246.02 KB)\n",
       "</pre>\n"
      ],
      "text/plain": [
       "\u001b[1m Trainable params: \u001b[0m\u001b[38;5;34m62,981\u001b[0m (246.02 KB)\n"
      ]
     },
     "metadata": {},
     "output_type": "display_data"
    },
    {
     "data": {
      "text/html": [
       "<pre style=\"white-space:pre;overflow-x:auto;line-height:normal;font-family:Menlo,'DejaVu Sans Mono',consolas,'Courier New',monospace\"><span style=\"font-weight: bold\"> Non-trainable params: </span><span style=\"color: #00af00; text-decoration-color: #00af00\">0</span> (0.00 B)\n",
       "</pre>\n"
      ],
      "text/plain": [
       "\u001b[1m Non-trainable params: \u001b[0m\u001b[38;5;34m0\u001b[0m (0.00 B)\n"
      ]
     },
     "metadata": {},
     "output_type": "display_data"
    },
    {
     "name": "stdout",
     "output_type": "stream",
     "text": [
      "You must install pydot (`pip install pydot`) for `plot_model` to work.\n"
     ]
    }
   ],
   "source": [
    "import tensorflow\n",
    "from tensorflow import keras\n",
    "from keras._tf_keras.keras.models import Sequential\n",
    "from keras._tf_keras.keras.layers import Input, Embedding, LSTM, LayerNormalization, Dense, Dropout\n",
    "from keras._tf_keras.keras.utils import plot_model\n",
    "\n",
    "model = Sequential()  # Membuat model Sequential\n",
    "\n",
    "# Menambahkan lapisan-lapisan ke dalam model\n",
    "model.add(Input(shape=(X.shape[1],)))  # Lapisan input dengan bentuk sesuai dengan X\n",
    "model.add(Embedding(input_dim=vocab_size+1, output_dim=100, mask_zero=True))  # Lapisan embedding dengan vocab_size + 1 sebagai input_dim\n",
    "model.add(LSTM(32, return_sequences=True))  # Lapisan LSTM dengan 32 unit dan return_sequences=True\n",
    "model.add(LayerNormalization())  # Lapisan normalisasi\n",
    "model.add(LSTM(32, return_sequences=True))  # Lapisan LSTM kedua dengan 32 unit dan return_sequences=True\n",
    "model.add(LayerNormalization())  # Lapisan normalisasi\n",
    "model.add(LSTM(32))  # Lapisan LSTM ketiga dengan 32 unit\n",
    "model.add(LayerNormalization())  # Lapisan normalisasi\n",
    "model.add(Dense(128, activation=\"relu\"))  # Lapisan dense dengan 128 unit dan fungsi aktivasi ReLU\n",
    "model.add(LayerNormalization())  # Lapisan normalisasi\n",
    "model.add(Dropout(0.2))  # Lapisan dropout dengan tingkat dropout 0.2\n",
    "model.add(Dense(128, activation=\"relu\"))  # Lapisan dense kedua dengan 128 unit dan fungsi aktivasi ReLU\n",
    "model.add(LayerNormalization())  # Lapisan normalisasi\n",
    "model.add(Dropout(0.2))  # Lapisan dropout kedua dengan tingkat dropout 0.2\n",
    "model.add(Dense(len(np.unique(y)), activation=\"softmax\"))  # Lapisan dense terakhir dengan jumlah unit sesuai dengan jumlah kelas dan fungsi aktivasi softmax\n",
    "\n",
    "model.compile(optimizer='adam', loss=\"sparse_categorical_crossentropy\", metrics=['accuracy'])  # Mengompilasi model dengan optimizer Adam, fungsi loss sparse_categorical_crossentropy, dan metrik akurasi\n",
    "\n",
    "model.summary()  # Menampilkan ringkasan model\n",
    "plot_model(model, show_shapes=True)  # Menampilkan struktur visual model"
   ]
  },
  {
   "cell_type": "code",
   "execution_count": 58,
   "metadata": {
    "colab": {
     "base_uri": "https://localhost:8080/"
    },
    "id": "swkDIepjkL-h",
    "outputId": "1791ee13-e027-4f6a-c1da-3de4fe7718ad"
   },
   "outputs": [
    {
     "name": "stdout",
     "output_type": "stream",
     "text": [
      "Epoch 1/50\n",
      "\u001b[1m6/6\u001b[0m \u001b[32m━━━━━━━━━━━━━━━━━━━━\u001b[0m\u001b[37m\u001b[0m \u001b[1m14s\u001b[0m 13ms/step - accuracy: 0.1067 - loss: 3.1916   \n",
      "Epoch 2/50\n",
      "\u001b[1m6/6\u001b[0m \u001b[32m━━━━━━━━━━━━━━━━━━━━\u001b[0m\u001b[37m\u001b[0m \u001b[1m0s\u001b[0m 12ms/step - accuracy: 0.4230 - loss: 1.8482\n",
      "Epoch 3/50\n",
      "\u001b[1m6/6\u001b[0m \u001b[32m━━━━━━━━━━━━━━━━━━━━\u001b[0m\u001b[37m\u001b[0m \u001b[1m0s\u001b[0m 12ms/step - accuracy: 0.3980 - loss: 1.4681\n",
      "Epoch 4/50\n",
      "\u001b[1m6/6\u001b[0m \u001b[32m━━━━━━━━━━━━━━━━━━━━\u001b[0m\u001b[37m\u001b[0m \u001b[1m0s\u001b[0m 12ms/step - accuracy: 0.4979 - loss: 1.4820\n",
      "Epoch 5/50\n",
      "\u001b[1m6/6\u001b[0m \u001b[32m━━━━━━━━━━━━━━━━━━━━\u001b[0m\u001b[37m\u001b[0m \u001b[1m0s\u001b[0m 12ms/step - accuracy: 0.6776 - loss: 0.9879\n",
      "Epoch 6/50\n",
      "\u001b[1m6/6\u001b[0m \u001b[32m━━━━━━━━━━━━━━━━━━━━\u001b[0m\u001b[37m\u001b[0m \u001b[1m0s\u001b[0m 13ms/step - accuracy: 0.8078 - loss: 0.8428\n",
      "Epoch 7/50\n",
      "\u001b[1m6/6\u001b[0m \u001b[32m━━━━━━━━━━━━━━━━━━━━\u001b[0m\u001b[37m\u001b[0m \u001b[1m0s\u001b[0m 12ms/step - accuracy: 0.7373 - loss: 0.7628\n",
      "Epoch 8/50\n",
      "\u001b[1m6/6\u001b[0m \u001b[32m━━━━━━━━━━━━━━━━━━━━\u001b[0m\u001b[37m\u001b[0m \u001b[1m0s\u001b[0m 13ms/step - accuracy: 0.8362 - loss: 0.5218\n",
      "Epoch 9/50\n",
      "\u001b[1m6/6\u001b[0m \u001b[32m━━━━━━━━━━━━━━━━━━━━\u001b[0m\u001b[37m\u001b[0m \u001b[1m0s\u001b[0m 14ms/step - accuracy: 0.8024 - loss: 0.6834\n",
      "Epoch 10/50\n",
      "\u001b[1m6/6\u001b[0m \u001b[32m━━━━━━━━━━━━━━━━━━━━\u001b[0m\u001b[37m\u001b[0m \u001b[1m0s\u001b[0m 13ms/step - accuracy: 0.8381 - loss: 0.4985\n",
      "Epoch 11/50\n",
      "\u001b[1m6/6\u001b[0m \u001b[32m━━━━━━━━━━━━━━━━━━━━\u001b[0m\u001b[37m\u001b[0m \u001b[1m0s\u001b[0m 13ms/step - accuracy: 0.8458 - loss: 0.4627\n"
     ]
    }
   ],
   "source": [
    "model_history = model.fit(x=X,  # Data input X\n",
    "                          y=y,  # Data output y\n",
    "                          batch_size=10,  # Ukuran batch yang digunakan dalam setiap iterasi\n",
    "                          callbacks=[tensorflow.keras.callbacks.EarlyStopping(monitor='accuracy', patience=3)],  # Menggunakan EarlyStopping untuk menghentikan pelatihan jika akurasi tidak meningkat setelah 3 epoch\n",
    "                          epochs=50)  # Jumlah epoch (iterasi) pelatihan\n"
   ]
  },
  {
   "cell_type": "code",
   "execution_count": 44,
   "metadata": {
    "id": "cxynmnNik_n2"
   },
   "outputs": [],
   "source": [
    "import re\n",
    "import random\n",
    "\n",
    "def inputan_user(pattern):\n",
    "    # Preprocess input pattern\n",
    "    text = []\n",
    "    txt = re.sub('[^a-zA-Z\\']', ' ', pattern)  # Menghapus karakter selain huruf dan tanda kutip dari pattern\n",
    "    txt = txt.lower()  # Mengonversi pattern menjadi huruf kecil\n",
    "    txt = txt.split()  # Membagi pattern menjadi kata-kata\n",
    "    txt = \" \".join(txt)  # Menggabungkan kata-kata kembali menjadi teks\n",
    "    text.append(txt)  # Menambahkan teks ke dalam list\n",
    "\n",
    "    # Tokenize and pad the input pattern\n",
    "    x_test = tokenizer.texts_to_sequences(text)  # Mengonversi teks input pengguna menjadi urutan angka\n",
    "    x_test = np.array(x_test).squeeze()  # Mengonversi ke dalam array dan menghapus dimensi yang tidak perlu\n",
    "    x_test = pad_sequences([x_test], padding='post', maxlen=X.shape[1])  # Melakukan padding terhadap urutan angka\n",
    "\n",
    "    # Make prediction using the model\n",
    "    y_pred = model.predict(x_test)  # Memprediksi kelas dengan model yang telah dilatih\n",
    "    y_pred = y_pred.argmax()  # Mengambil indeks kelas dengan nilai probabilitas tertinggi\n",
    "    tag = lbl_enc.inverse_transform([y_pred])[0]  # Mengonversi indeks kelas kembali menjadi label kelas\n",
    "    responses = df[df['tag'] == tag]['responses'].values[0]  # Mengambil respons berdasarkan label kelas\n",
    "\n",
    "    # Display user input and bot response\n",
    "    print(\"User: {}\".format(pattern))\n",
    "    print(\" BOT : {}\".format(random.choice(responses)))  # Menampilkan respons bot secara acak dari respons yang tersedia\n"
   ]
  },
  {
   "cell_type": "markdown",
   "metadata": {},
   "source": [
    "Menyimpan Model"
   ]
  },
  {
   "cell_type": "code",
   "execution_count": 11,
   "metadata": {},
   "outputs": [],
   "source": [
    "# Menyimpan model ke file\n",
    "model.save('../models/LISAv1.keras')\n"
   ]
  },
  {
   "cell_type": "code",
   "execution_count": 49,
   "metadata": {
    "colab": {
     "base_uri": "https://localhost:8080/"
    },
    "id": "uqdHj-iglqcj",
    "outputId": "1b701c32-5026-49c0-8fd0-2f6bf7634c98"
   },
   "outputs": [
    {
     "name": "stdout",
     "output_type": "stream",
     "text": [
      "\u001b[1m1/1\u001b[0m \u001b[32m━━━━━━━━━━━━━━━━━━━━\u001b[0m\u001b[37m\u001b[0m \u001b[1m1s\u001b[0m 1s/step\n",
      "User: selamat siang\n",
      " BOT : Selamat siang. Bagaimana hari kamu sejauh ini?\n"
     ]
    }
   ],
   "source": [
    "inputan_user('selamat siang')"
   ]
  },
  {
   "cell_type": "code",
   "execution_count": 34,
   "metadata": {
    "colab": {
     "base_uri": "https://localhost:8080/"
    },
    "id": "pb6yAEi3QL-y",
    "outputId": "af5af712-9574-4c3c-8834-053a152b2946"
   },
   "outputs": [
    {
     "ename": "ValueError",
     "evalue": "`sequences` must be a list of iterables. Found non-iterable: 12",
     "output_type": "error",
     "traceback": [
      "\u001b[1;31m---------------------------------------------------------------------------\u001b[0m",
      "\u001b[1;31mTypeError\u001b[0m                                 Traceback (most recent call last)",
      "File \u001b[1;32md:\\UNILA\\SKRIPSI\\Chatbot Lisa 1\\.venv\\Lib\\site-packages\\keras\\src\\utils\\sequence_utils.py:90\u001b[0m, in \u001b[0;36mpad_sequences\u001b[1;34m(sequences, maxlen, dtype, padding, truncating, value)\u001b[0m\n\u001b[0;32m     89\u001b[0m \u001b[38;5;28;01mtry\u001b[39;00m:\n\u001b[1;32m---> 90\u001b[0m     lengths\u001b[38;5;241m.\u001b[39mappend(\u001b[38;5;28;43mlen\u001b[39;49m\u001b[43m(\u001b[49m\u001b[43mx\u001b[49m\u001b[43m)\u001b[49m)\n\u001b[0;32m     91\u001b[0m     \u001b[38;5;28;01mif\u001b[39;00m flag \u001b[38;5;129;01mand\u001b[39;00m \u001b[38;5;28mlen\u001b[39m(x):\n",
      "\u001b[1;31mTypeError\u001b[0m: len() of unsized object",
      "\nThe above exception was the direct cause of the following exception:\n",
      "\u001b[1;31mValueError\u001b[0m                                Traceback (most recent call last)",
      "Cell \u001b[1;32mIn[34], line 1\u001b[0m\n\u001b[1;32m----> 1\u001b[0m \u001b[43minputan_user\u001b[49m\u001b[43m(\u001b[49m\u001b[38;5;124;43m'\u001b[39;49m\u001b[38;5;124;43msiang\u001b[39;49m\u001b[38;5;124;43m'\u001b[39;49m\u001b[43m)\u001b[49m\n",
      "Cell \u001b[1;32mIn[29], line 16\u001b[0m, in \u001b[0;36minputan_user\u001b[1;34m(pattern)\u001b[0m\n\u001b[0;32m     14\u001b[0m x_test \u001b[38;5;241m=\u001b[39m tokenizer\u001b[38;5;241m.\u001b[39mtexts_to_sequences(text)  \u001b[38;5;66;03m# Mengonversi teks input pengguna menjadi urutan angka\u001b[39;00m\n\u001b[0;32m     15\u001b[0m x_test \u001b[38;5;241m=\u001b[39m np\u001b[38;5;241m.\u001b[39marray(x_test)\u001b[38;5;241m.\u001b[39msqueeze()  \u001b[38;5;66;03m# Mengonversi ke dalam array dan menghapus dimensi yang tidak perlu\u001b[39;00m\n\u001b[1;32m---> 16\u001b[0m x_test \u001b[38;5;241m=\u001b[39m \u001b[43mpad_sequences\u001b[49m\u001b[43m(\u001b[49m\u001b[43m[\u001b[49m\u001b[43mx_test\u001b[49m\u001b[43m]\u001b[49m\u001b[43m,\u001b[49m\u001b[43m \u001b[49m\u001b[43mpadding\u001b[49m\u001b[38;5;241;43m=\u001b[39;49m\u001b[38;5;124;43m'\u001b[39;49m\u001b[38;5;124;43mpost\u001b[39;49m\u001b[38;5;124;43m'\u001b[39;49m\u001b[43m,\u001b[49m\u001b[43m \u001b[49m\u001b[43mmaxlen\u001b[49m\u001b[38;5;241;43m=\u001b[39;49m\u001b[43mX\u001b[49m\u001b[38;5;241;43m.\u001b[39;49m\u001b[43mshape\u001b[49m\u001b[43m[\u001b[49m\u001b[38;5;241;43m1\u001b[39;49m\u001b[43m]\u001b[49m\u001b[43m)\u001b[49m  \u001b[38;5;66;03m# Melakukan padding terhadap urutan angka\u001b[39;00m\n\u001b[0;32m     18\u001b[0m \u001b[38;5;66;03m# Make prediction using the model\u001b[39;00m\n\u001b[0;32m     19\u001b[0m y_pred \u001b[38;5;241m=\u001b[39m model\u001b[38;5;241m.\u001b[39mpredict(x_test)  \u001b[38;5;66;03m# Memprediksi kelas dengan model yang telah dilatih\u001b[39;00m\n",
      "File \u001b[1;32md:\\UNILA\\SKRIPSI\\Chatbot Lisa 1\\.venv\\Lib\\site-packages\\keras\\src\\utils\\sequence_utils.py:95\u001b[0m, in \u001b[0;36mpad_sequences\u001b[1;34m(sequences, maxlen, dtype, padding, truncating, value)\u001b[0m\n\u001b[0;32m     93\u001b[0m             flag \u001b[38;5;241m=\u001b[39m \u001b[38;5;28;01mFalse\u001b[39;00m\n\u001b[0;32m     94\u001b[0m     \u001b[38;5;28;01mexcept\u001b[39;00m \u001b[38;5;167;01mTypeError\u001b[39;00m \u001b[38;5;28;01mas\u001b[39;00m e:\n\u001b[1;32m---> 95\u001b[0m         \u001b[38;5;28;01mraise\u001b[39;00m \u001b[38;5;167;01mValueError\u001b[39;00m(\n\u001b[0;32m     96\u001b[0m             \u001b[38;5;124m\"\u001b[39m\u001b[38;5;124m`sequences` must be a list of iterables. \u001b[39m\u001b[38;5;124m\"\u001b[39m\n\u001b[0;32m     97\u001b[0m             \u001b[38;5;124mf\u001b[39m\u001b[38;5;124m\"\u001b[39m\u001b[38;5;124mFound non-iterable: \u001b[39m\u001b[38;5;132;01m{\u001b[39;00m\u001b[38;5;28mstr\u001b[39m(x)\u001b[38;5;132;01m}\u001b[39;00m\u001b[38;5;124m\"\u001b[39m\n\u001b[0;32m     98\u001b[0m         ) \u001b[38;5;28;01mfrom\u001b[39;00m \u001b[38;5;21;01me\u001b[39;00m\n\u001b[0;32m    100\u001b[0m \u001b[38;5;28;01mif\u001b[39;00m maxlen \u001b[38;5;129;01mis\u001b[39;00m \u001b[38;5;28;01mNone\u001b[39;00m:\n\u001b[0;32m    101\u001b[0m     maxlen \u001b[38;5;241m=\u001b[39m np\u001b[38;5;241m.\u001b[39mmax(lengths)\n",
      "\u001b[1;31mValueError\u001b[0m: `sequences` must be a list of iterables. Found non-iterable: 12"
     ]
    }
   ],
   "source": [
    "inputan_user('siang')"
   ]
  },
  {
   "cell_type": "code",
   "execution_count": 79,
   "metadata": {
    "colab": {
     "base_uri": "https://localhost:8080/"
    },
    "id": "Cly9l4siP859",
    "outputId": "a75b5a6b-a96e-419f-ff6e-a4236bd61dda"
   },
   "outputs": [
    {
     "name": "stdout",
     "output_type": "stream",
     "text": [
      "\u001b[1m1/1\u001b[0m \u001b[32m━━━━━━━━━━━━━━━━━━━━\u001b[0m\u001b[37m\u001b[0m \u001b[1m0s\u001b[0m 17ms/step\n",
      "User: may i ask a for 2 question?\n",
      " BOT : Of course. Feel free to ask me anything. I'll do my best to answer you\n"
     ]
    }
   ],
   "source": [
    "inputan_user('may i ask a for 2 question?')"
   ]
  },
  {
   "cell_type": "code",
   "execution_count": 80,
   "metadata": {
    "colab": {
     "base_uri": "https://localhost:8080/"
    },
    "id": "uG1dh6I4lwjH",
    "outputId": "cb26ad2f-5026-46e0-88c6-93817f6c13db"
   },
   "outputs": [
    {
     "name": "stdout",
     "output_type": "stream",
     "text": [
      "\u001b[1m1/1\u001b[0m \u001b[32m━━━━━━━━━━━━━━━━━━━━\u001b[0m\u001b[37m\u001b[0m \u001b[1m0s\u001b[0m 18ms/step\n",
      "User: what is depression?\n",
      " BOT : A mental health disorder characterised by persistently depressed mood or loss of interest in activities, causing significant impairment in daily life.\n"
     ]
    }
   ],
   "source": [
    "inputan_user(\"what is depression?\")"
   ]
  },
  {
   "cell_type": "code",
   "execution_count": 18,
   "metadata": {
    "colab": {
     "base_uri": "https://localhost:8080/"
    },
    "id": "jlLChPqPmGRn",
    "outputId": "d2e8e597-219a-4fa7-8afe-0b6953209a20"
   },
   "outputs": [
    {
     "name": "stdout",
     "output_type": "stream",
     "text": [
      "\u001b[1m1/1\u001b[0m \u001b[32m━━━━━━━━━━━━━━━━━━━━\u001b[0m\u001b[37m\u001b[0m \u001b[1m0s\u001b[0m 15ms/step\n",
      "User: How do i know if i have Depression?\t\n",
      " BOT : Depression can present with a range of symptoms, including persistent sadness, fatigue, changes in sleep or appetite, feelings of worthlessness, and difficulty concentrating. If these symptoms persist for more than two weeks and interfere with daily functioning, it's essential to consult with a mental health professional for evaluation and support.\n"
     ]
    }
   ],
   "source": [
    "inputan_user(\"How do i know if i have Depression?\t\")"
   ]
  },
  {
   "cell_type": "code",
   "execution_count": 17,
   "metadata": {
    "colab": {
     "base_uri": "https://localhost:8080/"
    },
    "id": "d5nMILSqpD2l",
    "outputId": "a6f3c7df-3f1b-49fd-d6fb-5a9f95a787e3"
   },
   "outputs": [
    {
     "name": "stdout",
     "output_type": "stream",
     "text": [
      "1/1 [==============================] - 0s 32ms/step\n",
      "User: Are there cures for mental health problems?\t\n",
      " BOT : It is often more realistic and helpful to find out what helps with the issues you face. Talking, counselling, medication, friendships, exercise, good sleep and nutrition, and meaningful occupation can all help.\n"
     ]
    }
   ],
   "source": [
    "inputan_user(\"Are there cures for mental health problems?\t\")"
   ]
  },
  {
   "cell_type": "code",
   "execution_count": 18,
   "metadata": {
    "colab": {
     "base_uri": "https://localhost:8080/"
    },
    "id": "Ea5tJKLPqNYz",
    "outputId": "303c3ad2-44af-4302-e970-7176c2d9a9ad"
   },
   "outputs": [
    {
     "name": "stdout",
     "output_type": "stream",
     "text": [
      "1/1 [==============================] - 0s 31ms/step\n",
      "User: How can I maintain social connections?\n",
      " BOT : A lot of people are alone right now, but we don't have to be lonely. We're all in this together. Think about the different ways to connect that are most meaningful for you. For example, you might prefer a video chat over a phone call, or you might prefer to text throughout the day rather than one set time for a video call. Then, work with your social networks to make a plan. You might video chat with your close friends in the evening and phone a family member once a week. Remember to be mindful of people who may not be online. Check in by phone and ask how you can help. The quality of your social connections matter. Mindlessly scrolling through social media and liking a few posts usually doesn't build strong social connections. Make sure you focus on strategies that actually make you feel included and connected. If your current strategies don't help you feel connected, problem-solve to see if you can find a solution. Everyone feels lonely at times. Maybe you recently moved to a new city, are changing your circle of friends, lost someone important in your life, or lost your job and also lost important social connections with coworkers. Other people may have physical connections to others but may feel like their emotional or social needs aren't met. Measures like social distancing or self-isolation can make loneliness feel worse no matter why you feel lonely now. Reach out to the connections you do have. Suggest ways to keep in touch and see if you can set a regular time to connect. People may hesitate to reach out for a lot of different reasons, so don't be afraid to be the one who asks. Look for local community support groups and mutual aid groups on social media. This pandemic is bringing everyone together, so look for opportunities to make new connections. These groups are a great way to share your skills and abilities or seek help and support. Look for specialized support groups. Support groups are moving online, and there are a lot of different support lines to call if you need to talk to someone.\n"
     ]
    }
   ],
   "source": [
    "inputan_user(\"How can I maintain social connections?\")"
   ]
  },
  {
   "cell_type": "code",
   "execution_count": 19,
   "metadata": {
    "colab": {
     "base_uri": "https://localhost:8080/"
    },
    "id": "i0DjRt4IqXfX",
    "outputId": "cca61a79-9ac2-4ef6-be57-964c75ff8a7c"
   },
   "outputs": [
    {
     "name": "stdout",
     "output_type": "stream",
     "text": [
      "1/1 [==============================] - 0s 31ms/step\n",
      "User: Good Night\n",
      " BOT : Good night. Sweet dreams.\n"
     ]
    }
   ],
   "source": [
    "inputan_user(\"Good Night\")"
   ]
  },
  {
   "cell_type": "code",
   "execution_count": null,
   "metadata": {},
   "outputs": [],
   "source": []
  },
  {
   "cell_type": "code",
   "execution_count": 20,
   "metadata": {},
   "outputs": [
    {
     "name": "stdout",
     "output_type": "stream",
     "text": [
      "1/1 [==============================] - 0s 29ms/step\n",
      "User: Good morning\n",
      " BOT : Good morning. How are you feeling today? \n"
     ]
    }
   ],
   "source": [
    "inputan_user(\"Good morning\")"
   ]
  },
  {
   "cell_type": "code",
   "execution_count": 21,
   "metadata": {},
   "outputs": [
    {
     "name": "stdout",
     "output_type": "stream",
     "text": [
      "1/1 [==============================] - 0s 31ms/step\n",
      "User: Good evening\n",
      " BOT : Good evening. How has your day been?\n"
     ]
    }
   ],
   "source": [
    "inputan_user(\"Good evening\")"
   ]
  },
  {
   "cell_type": "code",
   "execution_count": 22,
   "metadata": {},
   "outputs": [
    {
     "name": "stdout",
     "output_type": "stream",
     "text": [
      "1/1 [==============================] - 0s 32ms/step\n",
      "User: intro please\n",
      " BOT : I'm MentalHealthBot, your Personal Mental Bot assistance. do you need my help?\n"
     ]
    }
   ],
   "source": [
    "inputan_user(\"intro please\")"
   ]
  },
  {
   "cell_type": "code",
   "execution_count": 23,
   "metadata": {},
   "outputs": [
    {
     "name": "stdout",
     "output_type": "stream",
     "text": [
      "1/1 [==============================] - 0s 30ms/step\n",
      "User: what is depression?\n",
      " BOT : Depression is a mental health disorder characterized by persistent feelings of sadness, hopelessness, and a lack of interest or pleasure in activities. It goes beyond normal feelings of sadness and can impact various aspects of life. Depression is a treatable condition, and seeking professional help is crucial for an accurate diagnosis and appropriate treatment.\n"
     ]
    }
   ],
   "source": [
    "inputan_user(\"what is depression?\")"
   ]
  },
  {
   "cell_type": "code",
   "execution_count": 24,
   "metadata": {},
   "outputs": [
    {
     "name": "stdout",
     "output_type": "stream",
     "text": [
      "1/1 [==============================] - 0s 30ms/step\n",
      "User: What is anxiety?\n",
      " BOT : Anxiety is a natural response to stress, characterized by feelings of fear, apprehension, or uneasiness. While stress is a response to a specific threat, anxiety is often more generalized and can persist even when there is no immediate danger. Anxiety disorders involve excessive and persistent worry that can interfere with daily life. It's essential to distinguish between normal anxiety and anxiety disorders, as the latter may require professional intervention.\n"
     ]
    }
   ],
   "source": [
    "inputan_user(\"What is anxiety?\")"
   ]
  },
  {
   "cell_type": "code",
   "execution_count": 25,
   "metadata": {},
   "outputs": [],
   "source": [
    "#Menyimpan model setelah pelatihan\n",
    "model.save('my_model.keras')"
   ]
  },
  {
   "cell_type": "code",
   "execution_count": 26,
   "metadata": {},
   "outputs": [
    {
     "name": "stdout",
     "output_type": "stream",
     "text": [
      "1/1 [==============================] - 0s 32ms/step\n",
      "User: may i ask u something?\n",
      " BOT : Sure. I'll try my best to answer you\n"
     ]
    }
   ],
   "source": [
    "inputan_user(\"may i ask u something?\")"
   ]
  },
  {
   "cell_type": "code",
   "execution_count": null,
   "metadata": {},
   "outputs": [],
   "source": []
  },
  {
   "cell_type": "code",
   "execution_count": null,
   "metadata": {},
   "outputs": [],
   "source": []
  },
  {
   "cell_type": "code",
   "execution_count": null,
   "metadata": {},
   "outputs": [],
   "source": []
  },
  {
   "cell_type": "code",
   "execution_count": null,
   "metadata": {},
   "outputs": [],
   "source": []
  },
  {
   "cell_type": "code",
   "execution_count": null,
   "metadata": {},
   "outputs": [],
   "source": []
  },
  {
   "cell_type": "code",
   "execution_count": null,
   "metadata": {},
   "outputs": [],
   "source": []
  },
  {
   "cell_type": "code",
   "execution_count": null,
   "metadata": {},
   "outputs": [],
   "source": []
  },
  {
   "cell_type": "code",
   "execution_count": null,
   "metadata": {},
   "outputs": [],
   "source": []
  },
  {
   "cell_type": "code",
   "execution_count": null,
   "metadata": {},
   "outputs": [],
   "source": []
  },
  {
   "cell_type": "code",
   "execution_count": null,
   "metadata": {},
   "outputs": [],
   "source": []
  },
  {
   "cell_type": "code",
   "execution_count": null,
   "metadata": {},
   "outputs": [],
   "source": []
  },
  {
   "cell_type": "code",
   "execution_count": null,
   "metadata": {},
   "outputs": [],
   "source": []
  },
  {
   "cell_type": "code",
   "execution_count": null,
   "metadata": {},
   "outputs": [],
   "source": []
  }
 ],
 "metadata": {
  "colab": {
   "provenance": []
  },
  "kernelspec": {
   "display_name": ".venv",
   "language": "python",
   "name": "python3"
  },
  "language_info": {
   "codemirror_mode": {
    "name": "ipython",
    "version": 3
   },
   "file_extension": ".py",
   "mimetype": "text/x-python",
   "name": "python",
   "nbconvert_exporter": "python",
   "pygments_lexer": "ipython3",
   "version": "3.12.6"
  },
  "toc": {
   "base_numbering": 1,
   "nav_menu": {},
   "number_sections": true,
   "sideBar": true,
   "skip_h1_title": false,
   "title_cell": "Table of Contents",
   "title_sidebar": "Contents",
   "toc_cell": false,
   "toc_position": {},
   "toc_section_display": true,
   "toc_window_display": false
  },
  "varInspector": {
   "cols": {
    "lenName": 16,
    "lenType": 16,
    "lenVar": 40
   },
   "kernels_config": {
    "python": {
     "delete_cmd_postfix": "",
     "delete_cmd_prefix": "del ",
     "library": "var_list.py",
     "varRefreshCmd": "print(var_dic_list())"
    },
    "r": {
     "delete_cmd_postfix": ") ",
     "delete_cmd_prefix": "rm(",
     "library": "var_list.r",
     "varRefreshCmd": "cat(var_dic_list()) "
    }
   },
   "types_to_exclude": [
    "module",
    "function",
    "builtin_function_or_method",
    "instance",
    "_Feature"
   ],
   "window_display": false
  }
 },
 "nbformat": 4,
 "nbformat_minor": 1
}
